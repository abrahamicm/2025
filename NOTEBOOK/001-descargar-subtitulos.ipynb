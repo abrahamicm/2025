{
 "cells": [
  {
   "cell_type": "markdown",
   "id": "6ead329f",
   "metadata": {},
   "source": [
    "### ✅ Opción 1: `youtube-transcript-api`"
   ]
  },
  {
   "cell_type": "code",
   "execution_count": null,
   "id": "c03b4567",
   "metadata": {},
   "outputs": [],
   "source": [
    "pip install youtube-transcript-api\n"
   ]
  },
  {
   "cell_type": "code",
   "execution_count": 4,
   "id": "10ace2b9",
   "metadata": {},
   "outputs": [],
   "source": [
    "from youtube_transcript_api import YouTubeTranscriptApi\n",
    "\n",
    "video_id = \"krU5XDAZ9fk\"\n",
    "\n",
    "# Obtener subtítulos automáticos o manuales (si existen)\n",
    "transcript = YouTubeTranscriptApi.get_transcript(video_id, languages=['es'])  # puedes usar 'en', 'fr', etc.\n",
    "\n",
    "# Guardar como archivo .srt\n",
    "with open(\"youtube-transcript-api-subtitulos.srt\", \"w\", encoding=\"utf-8\") as f:\n",
    "    for entry in transcript:\n",
    "        start = entry['start']\n",
    "        duration = entry['duration']\n",
    "        text = entry['text']\n",
    "        f.write(f\"{start} --> {start+duration}\\n{text}\\n\\n\")"
   ]
  },
  {
   "cell_type": "markdown",
   "id": "825f819f",
   "metadata": {},
   "source": [
    "### ✅ Opción 2: `yt-dlp` (Recomendado si quieres bajar todo, incluyendo video/audio)\n"
   ]
  },
  {
   "cell_type": "code",
   "execution_count": null,
   "id": "2bd0b994",
   "metadata": {},
   "outputs": [],
   "source": [
    "pip install yt-dlp\n"
   ]
  },
  {
   "cell_type": "code",
   "execution_count": 5,
   "id": "8429de0e",
   "metadata": {},
   "outputs": [
    {
     "name": "stdout",
     "output_type": "stream",
     "text": [
      "[youtube] Extracting URL: https://www.youtube.com/watch?v=krU5XDAZ9fk\n",
      "[youtube] krU5XDAZ9fk: Downloading webpage\n",
      "[youtube] krU5XDAZ9fk: Downloading tv client config\n",
      "[youtube] krU5XDAZ9fk: Downloading tv player API JSON\n",
      "[youtube] krU5XDAZ9fk: Downloading ios player API JSON\n",
      "[youtube] krU5XDAZ9fk: Downloading m3u8 information\n",
      "[info] krU5XDAZ9fk: Downloading subtitles: es\n",
      "[info] krU5XDAZ9fk: Downloading 1 format(s): 399+251\n",
      "[info] Writing video subtitles to: yt_dlp-subtitulos.es.vtt\n",
      "[download] Destination: yt_dlp-subtitulos.es.vtt\n",
      "[download] 100% of   70.78KiB in 00:00:00 at 804.40KiB/s\n"
     ]
    }
   ],
   "source": [
    "import yt_dlp\n",
    "\n",
    "url = \"https://www.youtube.com/watch?v=krU5XDAZ9fk\"\n",
    "\n",
    "ydl_opts = {\n",
    "    'writesubtitles': True,\n",
    "    'writeautomaticsub': True,\n",
    "    'skip_download': True,\n",
    "    'subtitleslangs': ['es'],  # Cambia 'es' por 'en', 'fr', etc.\n",
    "    'outtmpl': 'yt_dlp-subtitulos.%(ext)s'\n",
    "}\n",
    "\n",
    "with yt_dlp.YoutubeDL(ydl_opts) as ydl:\n",
    "    ydl.download([url])"
   ]
  }
 ],
 "metadata": {
  "kernelspec": {
   "display_name": "Python 3",
   "language": "python",
   "name": "python3"
  },
  "language_info": {
   "codemirror_mode": {
    "name": "ipython",
    "version": 3
   },
   "file_extension": ".py",
   "mimetype": "text/x-python",
   "name": "python",
   "nbconvert_exporter": "python",
   "pygments_lexer": "ipython3",
   "version": "3.13.2"
  }
 },
 "nbformat": 4,
 "nbformat_minor": 5
}
