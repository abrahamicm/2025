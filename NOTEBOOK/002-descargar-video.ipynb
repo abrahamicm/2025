{
 "cells": [
  {
   "cell_type": "code",
   "execution_count": 1,
   "id": "c2610de8",
   "metadata": {},
   "outputs": [
    {
     "name": "stdout",
     "output_type": "stream",
     "text": [
      "[youtube] Extracting URL: https://www.youtube.com/watch?v=4deUxsQOGps\n",
      "[youtube] 4deUxsQOGps: Downloading webpage\n",
      "[youtube] 4deUxsQOGps: Downloading tv client config\n",
      "[youtube] 4deUxsQOGps: Downloading tv player API JSON\n",
      "[youtube] 4deUxsQOGps: Downloading ios player API JSON\n",
      "[youtube] 4deUxsQOGps: Downloading m3u8 information\n",
      "[info] 4deUxsQOGps: Downloading 1 format(s): 399+251\n",
      "[download] Destination: ¡Hola! ｜ Canciones Infantiles ｜ Super Simple Español.f399.mp4\n",
      "[download] 100% of    6.08MiB in 00:00:00 at 6.26MiB/s   \n",
      "[download] Destination: ¡Hola! ｜ Canciones Infantiles ｜ Super Simple Español.f251.webm\n",
      "[download] 100% of    1.27MiB in 00:00:00 at 4.01MiB/s   \n",
      "[Merger] Merging formats into \"¡Hola! ｜ Canciones Infantiles ｜ Super Simple Español.mp4\"\n",
      "Deleting original file ¡Hola! ｜ Canciones Infantiles ｜ Super Simple Español.f399.mp4 (pass -k to keep)\n",
      "Deleting original file ¡Hola! ｜ Canciones Infantiles ｜ Super Simple Español.f251.webm (pass -k to keep)\n"
     ]
    }
   ],
   "source": [
    "import yt_dlp\n",
    "\n",
    "url = 'https://www.youtube.com/watch?v=4deUxsQOGps'\n",
    "\n",
    "ydl_opts = {\n",
    "    'format': 'bestvideo+bestaudio/best',  # Descarga mejor video y audio y los combina\n",
    "    'outtmpl': '%(title)s.%(ext)s',       # Guarda el archivo con el nombre del video\n",
    "    'merge_output_format': 'mp4'          # Salida final en formato MP4\n",
    "}\n",
    "\n",
    "with yt_dlp.YoutubeDL(ydl_opts) as ydl:\n",
    "    ydl.download([url])\n"
   ]
  },
  {
   "cell_type": "code",
   "execution_count": 2,
   "id": "34f4256c",
   "metadata": {},
   "outputs": [
    {
     "name": "stdout",
     "output_type": "stream",
     "text": [
      "[youtube] Extracting URL: https://www.youtube.com/watch?v=4deUxsQOGps\n",
      "[youtube] 4deUxsQOGps: Downloading webpage\n",
      "[youtube] 4deUxsQOGps: Downloading tv client config\n",
      "[youtube] 4deUxsQOGps: Downloading player f8651e27-main\n",
      "[youtube] 4deUxsQOGps: Downloading tv player API JSON\n",
      "[youtube] 4deUxsQOGps: Downloading ios player API JSON\n",
      "[youtube] 4deUxsQOGps: Downloading m3u8 information\n",
      "Format ID: sb2, Extension: mhtml, Resolution: 48x27, Note: storyboard\n",
      "Format ID: sb1, Extension: mhtml, Resolution: 79x45, Note: storyboard\n",
      "Format ID: sb0, Extension: mhtml, Resolution: 159x90, Note: storyboard\n",
      "Format ID: 233, Extension: mp4, Resolution: audio only, Note: Default, low\n",
      "Format ID: 234, Extension: mp4, Resolution: audio only, Note: Default, high\n",
      "Format ID: 249, Extension: webm, Resolution: audio only, Note: low\n",
      "Format ID: 250, Extension: webm, Resolution: audio only, Note: low\n",
      "Format ID: 140, Extension: m4a, Resolution: audio only, Note: medium\n",
      "Format ID: 251, Extension: webm, Resolution: audio only, Note: medium\n",
      "Format ID: 269, Extension: mp4, Resolution: 256x144, Note: None\n",
      "Format ID: 160, Extension: mp4, Resolution: 256x144, Note: 144p\n",
      "Format ID: 603, Extension: mp4, Resolution: 256x144, Note: None\n",
      "Format ID: 278, Extension: webm, Resolution: 256x144, Note: 144p\n",
      "Format ID: 394, Extension: mp4, Resolution: 256x144, Note: 144p\n",
      "Format ID: 229, Extension: mp4, Resolution: 426x240, Note: None\n",
      "Format ID: 133, Extension: mp4, Resolution: 426x240, Note: 240p\n",
      "Format ID: 604, Extension: mp4, Resolution: 426x240, Note: None\n",
      "Format ID: 242, Extension: webm, Resolution: 426x240, Note: 240p\n",
      "Format ID: 395, Extension: mp4, Resolution: 426x240, Note: 240p\n",
      "Format ID: 230, Extension: mp4, Resolution: 640x360, Note: None\n",
      "Format ID: 134, Extension: mp4, Resolution: 640x360, Note: 360p\n",
      "Format ID: 18, Extension: mp4, Resolution: 640x360, Note: 360p\n",
      "Format ID: 605, Extension: mp4, Resolution: 640x360, Note: None\n",
      "Format ID: 243, Extension: webm, Resolution: 640x360, Note: 360p\n",
      "Format ID: 396, Extension: mp4, Resolution: 640x360, Note: 360p\n",
      "Format ID: 231, Extension: mp4, Resolution: 854x480, Note: None\n",
      "Format ID: 135, Extension: mp4, Resolution: 854x480, Note: 480p\n",
      "Format ID: 606, Extension: mp4, Resolution: 854x480, Note: None\n",
      "Format ID: 244, Extension: webm, Resolution: 854x480, Note: 480p\n",
      "Format ID: 397, Extension: mp4, Resolution: 854x480, Note: 480p\n",
      "Format ID: 232, Extension: mp4, Resolution: 1280x720, Note: None\n",
      "Format ID: 136, Extension: mp4, Resolution: 1280x720, Note: 720p\n",
      "Format ID: 609, Extension: mp4, Resolution: 1280x720, Note: None\n",
      "Format ID: 247, Extension: webm, Resolution: 1280x720, Note: 720p\n",
      "Format ID: 398, Extension: mp4, Resolution: 1280x720, Note: 720p\n",
      "Format ID: 270, Extension: mp4, Resolution: 1920x1080, Note: None\n",
      "Format ID: 137, Extension: mp4, Resolution: 1920x1080, Note: 1080p\n",
      "Format ID: 614, Extension: mp4, Resolution: 1920x1080, Note: None\n",
      "Format ID: 248, Extension: webm, Resolution: 1920x1080, Note: 1080p\n",
      "Format ID: 399, Extension: mp4, Resolution: 1920x1080, Note: 1080p\n"
     ]
    }
   ],
   "source": [
    "import yt_dlp\n",
    "\n",
    "url = 'https://www.youtube.com/watch?v=4deUxsQOGps'\n",
    "\n",
    "ydl_opts = {}\n",
    "\n",
    "with yt_dlp.YoutubeDL(ydl_opts) as ydl:\n",
    "    info_dict = ydl.extract_info(url, download=False)  # Solo extrae info, no descarga\n",
    "    formats = info_dict.get('formats', [])\n",
    "\n",
    "    for f in formats:\n",
    "        print(f\"Format ID: {f['format_id']}, Extension: {f['ext']}, Resolution: {f.get('resolution')}, Note: {f.get('format_note')}\")\n"
   ]
  },
  {
   "cell_type": "code",
   "execution_count": 3,
   "id": "eab164c7",
   "metadata": {},
   "outputs": [
    {
     "name": "stdout",
     "output_type": "stream",
     "text": [
      "Idiomas disponibles para subtítulos:\n",
      "- Spanish (Código: es)\n",
      "- Spanish (auto-generated) (Código: es)\n"
     ]
    }
   ],
   "source": [
    "from youtube_transcript_api import YouTubeTranscriptApi\n",
    "\n",
    "video_id = '4deUxsQOGps'  # ID del video de YouTube\n",
    "\n",
    "try:\n",
    "    # Obtiene la lista de traducciones disponibles (idiomas)\n",
    "    transcript_list = YouTubeTranscriptApi.list_transcripts(video_id)\n",
    "\n",
    "    print(\"Idiomas disponibles para subtítulos:\")\n",
    "    for transcript in transcript_list:\n",
    "        print(f\"- {transcript.language} (Código: {transcript.language_code})\")\n",
    "except Exception as e:\n",
    "    print(f\"No se pudieron obtener los subtítulos: {e}\")\n"
   ]
  },
  {
   "cell_type": "code",
   "execution_count": 15,
   "id": "61ae0591",
   "metadata": {},
   "outputs": [
    {
     "name": "stdout",
     "output_type": "stream",
     "text": [
      "Requirement already satisfied: transformers in c:\\users\\acordero\\appdata\\local\\programs\\python\\python313\\lib\\site-packages (4.50.2)\n",
      "Requirement already satisfied: torch in c:\\users\\acordero\\appdata\\local\\programs\\python\\python313\\lib\\site-packages (2.6.0)\n",
      "Requirement already satisfied: filelock in c:\\users\\acordero\\appdata\\local\\programs\\python\\python313\\lib\\site-packages (from transformers) (3.18.0)\n",
      "Requirement already satisfied: huggingface-hub<1.0,>=0.26.0 in c:\\users\\acordero\\appdata\\local\\programs\\python\\python313\\lib\\site-packages (from transformers) (0.29.3)\n",
      "Requirement already satisfied: numpy>=1.17 in c:\\users\\acordero\\appdata\\local\\programs\\python\\python313\\lib\\site-packages (from transformers) (2.1.0)\n",
      "Requirement already satisfied: packaging>=20.0 in c:\\users\\acordero\\appdata\\local\\programs\\python\\python313\\lib\\site-packages (from transformers) (24.2)\n",
      "Requirement already satisfied: pyyaml>=5.1 in c:\\users\\acordero\\appdata\\local\\programs\\python\\python313\\lib\\site-packages (from transformers) (6.0.2)\n",
      "Requirement already satisfied: regex!=2019.12.17 in c:\\users\\acordero\\appdata\\local\\programs\\python\\python313\\lib\\site-packages (from transformers) (2024.11.6)\n",
      "Requirement already satisfied: requests in c:\\users\\acordero\\appdata\\local\\programs\\python\\python313\\lib\\site-packages (from transformers) (2.32.3)\n",
      "Requirement already satisfied: tokenizers<0.22,>=0.21 in c:\\users\\acordero\\appdata\\local\\programs\\python\\python313\\lib\\site-packages (from transformers) (0.21.1)\n",
      "Requirement already satisfied: safetensors>=0.4.3 in c:\\users\\acordero\\appdata\\local\\programs\\python\\python313\\lib\\site-packages (from transformers) (0.5.3)\n",
      "Requirement already satisfied: tqdm>=4.27 in c:\\users\\acordero\\appdata\\local\\programs\\python\\python313\\lib\\site-packages (from transformers) (4.67.1)\n",
      "Requirement already satisfied: fsspec>=2023.5.0 in c:\\users\\acordero\\appdata\\local\\programs\\python\\python313\\lib\\site-packages (from huggingface-hub<1.0,>=0.26.0->transformers) (2025.3.0)\n",
      "Requirement already satisfied: typing-extensions>=3.7.4.3 in c:\\users\\acordero\\appdata\\local\\programs\\python\\python313\\lib\\site-packages (from huggingface-hub<1.0,>=0.26.0->transformers) (4.13.0)\n",
      "Requirement already satisfied: networkx in c:\\users\\acordero\\appdata\\local\\programs\\python\\python313\\lib\\site-packages (from torch) (3.4.2)\n",
      "Requirement already satisfied: jinja2 in c:\\users\\acordero\\appdata\\local\\programs\\python\\python313\\lib\\site-packages (from torch) (3.1.6)\n",
      "Requirement already satisfied: setuptools in c:\\users\\acordero\\appdata\\local\\programs\\python\\python313\\lib\\site-packages (from torch) (80.4.0)\n",
      "Requirement already satisfied: sympy==1.13.1 in c:\\users\\acordero\\appdata\\local\\programs\\python\\python313\\lib\\site-packages (from torch) (1.13.1)\n",
      "Requirement already satisfied: mpmath<1.4,>=1.1.0 in c:\\users\\acordero\\appdata\\local\\programs\\python\\python313\\lib\\site-packages (from sympy==1.13.1->torch) (1.3.0)\n",
      "Requirement already satisfied: colorama in c:\\users\\acordero\\appdata\\local\\programs\\python\\python313\\lib\\site-packages (from tqdm>=4.27->transformers) (0.4.6)\n",
      "Requirement already satisfied: MarkupSafe>=2.0 in c:\\users\\acordero\\appdata\\local\\programs\\python\\python313\\lib\\site-packages (from jinja2->torch) (3.0.2)\n",
      "Requirement already satisfied: charset-normalizer<4,>=2 in c:\\users\\acordero\\appdata\\local\\programs\\python\\python313\\lib\\site-packages (from requests->transformers) (3.4.1)\n",
      "Requirement already satisfied: idna<4,>=2.5 in c:\\users\\acordero\\appdata\\local\\programs\\python\\python313\\lib\\site-packages (from requests->transformers) (3.10)\n",
      "Requirement already satisfied: urllib3<3,>=1.21.1 in c:\\users\\acordero\\appdata\\local\\programs\\python\\python313\\lib\\site-packages (from requests->transformers) (2.3.0)\n",
      "Requirement already satisfied: certifi>=2017.4.17 in c:\\users\\acordero\\appdata\\local\\programs\\python\\python313\\lib\\site-packages (from requests->transformers) (2025.1.31)\n",
      "Note: you may need to restart the kernel to use updated packages.\n"
     ]
    }
   ],
   "source": [
    "pip install transformers torch\n"
   ]
  },
  {
   "cell_type": "code",
   "execution_count": 16,
   "id": "be9694cd",
   "metadata": {},
   "outputs": [
    {
     "ename": "ImportError",
     "evalue": "\nMarianTokenizer requires the SentencePiece library but it was not found in your environment. Checkout the instructions on the\ninstallation page of its repo: https://github.com/google/sentencepiece#installation and follow the ones\nthat match your environment. Please note that you may need to restart your runtime after installation.\n",
     "output_type": "error",
     "traceback": [
      "\u001b[31m---------------------------------------------------------------------------\u001b[39m",
      "\u001b[31mImportError\u001b[39m                               Traceback (most recent call last)",
      "\u001b[36mCell\u001b[39m\u001b[36m \u001b[39m\u001b[32mIn[16]\u001b[39m\u001b[32m, line 6\u001b[39m\n\u001b[32m      4\u001b[39m tgt = \u001b[33m\"\u001b[39m\u001b[33mes\u001b[39m\u001b[33m\"\u001b[39m\n\u001b[32m      5\u001b[39m model_name = \u001b[33mf\u001b[39m\u001b[33m'\u001b[39m\u001b[33mHelsinki-NLP/opus-mt-\u001b[39m\u001b[38;5;132;01m{\u001b[39;00msrc\u001b[38;5;132;01m}\u001b[39;00m\u001b[33m-\u001b[39m\u001b[38;5;132;01m{\u001b[39;00mtgt\u001b[38;5;132;01m}\u001b[39;00m\u001b[33m'\u001b[39m\n\u001b[32m----> \u001b[39m\u001b[32m6\u001b[39m tokenizer = \u001b[43mMarianTokenizer\u001b[49m\u001b[43m.\u001b[49m\u001b[43mfrom_pretrained\u001b[49m(model_name)\n\u001b[32m      7\u001b[39m model = MarianMTModel.from_pretrained(model_name)\n\u001b[32m      9\u001b[39m texto = \u001b[33m\"\u001b[39m\u001b[33mThis is a test\u001b[39m\u001b[33m\"\u001b[39m\n",
      "\u001b[36mFile \u001b[39m\u001b[32mc:\\Users\\acordero\\AppData\\Local\\Programs\\Python\\Python313\\Lib\\site-packages\\transformers\\utils\\import_utils.py:1849\u001b[39m, in \u001b[36mDummyObject.__getattribute__\u001b[39m\u001b[34m(cls, key)\u001b[39m\n\u001b[32m   1847\u001b[39m \u001b[38;5;28;01mif\u001b[39;00m key.startswith(\u001b[33m\"\u001b[39m\u001b[33m_\u001b[39m\u001b[33m\"\u001b[39m) \u001b[38;5;129;01mand\u001b[39;00m key != \u001b[33m\"\u001b[39m\u001b[33m_from_config\u001b[39m\u001b[33m\"\u001b[39m:\n\u001b[32m   1848\u001b[39m     \u001b[38;5;28;01mreturn\u001b[39;00m \u001b[38;5;28msuper\u001b[39m().\u001b[34m__getattribute__\u001b[39m(key)\n\u001b[32m-> \u001b[39m\u001b[32m1849\u001b[39m \u001b[43mrequires_backends\u001b[49m\u001b[43m(\u001b[49m\u001b[38;5;28;43mcls\u001b[39;49m\u001b[43m,\u001b[49m\u001b[43m \u001b[49m\u001b[38;5;28;43mcls\u001b[39;49m\u001b[43m.\u001b[49m\u001b[43m_backends\u001b[49m\u001b[43m)\u001b[49m\n",
      "\u001b[36mFile \u001b[39m\u001b[32mc:\\Users\\acordero\\AppData\\Local\\Programs\\Python\\Python313\\Lib\\site-packages\\transformers\\utils\\import_utils.py:1837\u001b[39m, in \u001b[36mrequires_backends\u001b[39m\u001b[34m(obj, backends)\u001b[39m\n\u001b[32m   1835\u001b[39m failed = [msg.format(name) \u001b[38;5;28;01mfor\u001b[39;00m available, msg \u001b[38;5;129;01min\u001b[39;00m checks \u001b[38;5;28;01mif\u001b[39;00m \u001b[38;5;129;01mnot\u001b[39;00m available()]\n\u001b[32m   1836\u001b[39m \u001b[38;5;28;01mif\u001b[39;00m failed:\n\u001b[32m-> \u001b[39m\u001b[32m1837\u001b[39m     \u001b[38;5;28;01mraise\u001b[39;00m \u001b[38;5;167;01mImportError\u001b[39;00m(\u001b[33m\"\u001b[39m\u001b[33m\"\u001b[39m.join(failed))\n",
      "\u001b[31mImportError\u001b[39m: \nMarianTokenizer requires the SentencePiece library but it was not found in your environment. Checkout the instructions on the\ninstallation page of its repo: https://github.com/google/sentencepiece#installation and follow the ones\nthat match your environment. Please note that you may need to restart your runtime after installation.\n"
     ]
    }
   ],
   "source": [
    "from transformers import MarianMTModel, MarianTokenizer\n",
    "\n",
    "src = \"en\"\n",
    "tgt = \"es\"\n",
    "model_name = f'Helsinki-NLP/opus-mt-{src}-{tgt}'\n",
    "tokenizer = MarianTokenizer.from_pretrained(model_name)\n",
    "model = MarianMTModel.from_pretrained(model_name)\n",
    "\n",
    "texto = \"This is a test\"\n",
    "tokens = tokenizer(texto, return_tensors=\"pt\", padding=True)\n",
    "translated = model.generate(**tokens)\n",
    "print(tokenizer.decode(translated[0], skip_special_tokens=True))\n"
   ]
  },
  {
   "cell_type": "code",
   "execution_count": 20,
   "id": "1a06eb65",
   "metadata": {},
   "outputs": [
    {
     "name": "stdout",
     "output_type": "stream",
     "text": [
      "Requirement already satisfied: pip in c:\\users\\acordero\\appdata\\local\\programs\\python\\python313\\lib\\site-packages (25.1.1)\n",
      "Requirement already satisfied: setuptools in c:\\users\\acordero\\appdata\\local\\programs\\python\\python313\\lib\\site-packages (80.4.0)\n",
      "Collecting setuptools\n",
      "  Using cached setuptools-80.8.0-py3-none-any.whl.metadata (6.6 kB)\n",
      "Requirement already satisfied: wheel in c:\\users\\acordero\\appdata\\local\\programs\\python\\python313\\lib\\site-packages (0.45.1)\n",
      "Using cached setuptools-80.8.0-py3-none-any.whl (1.2 MB)\n",
      "Installing collected packages: setuptools\n",
      "  Attempting uninstall: setuptools\n",
      "    Found existing installation: setuptools 80.4.0\n",
      "    Uninstalling setuptools-80.4.0:\n",
      "      Successfully uninstalled setuptools-80.4.0\n",
      "Successfully installed setuptools-80.8.0\n",
      "Note: you may need to restart the kernel to use updated packages.\n"
     ]
    }
   ],
   "source": [
    "pip install --upgrade pip setuptools wheel\n"
   ]
  },
  {
   "cell_type": "code",
   "execution_count": 1,
   "id": "6ef47f06",
   "metadata": {},
   "outputs": [
    {
     "name": "stdout",
     "output_type": "stream",
     "text": [
      "Collecting sentencepiece==0.1.99\n",
      "  Using cached sentencepiece-0.1.99.tar.gz (2.6 MB)\n",
      "  Preparing metadata (setup.py): started\n",
      "  Preparing metadata (setup.py): finished with status 'error'\n",
      "Note: you may need to restart the kernel to use updated packages.\n"
     ]
    },
    {
     "name": "stderr",
     "output_type": "stream",
     "text": [
      "  error: subprocess-exited-with-error\n",
      "  \n",
      "  × python setup.py egg_info did not run successfully.\n",
      "  │ exit code: 1\n",
      "  ╰─> [37 lines of output]\n",
      "      -- Building for: Visual Studio 17 2022\n",
      "      CMake Error at CMakeLists.txt:15 (cmake_minimum_required):\n",
      "        Compatibility with CMake < 3.5 has been removed from CMake.\n",
      "      \n",
      "        Update the VERSION argument <min> value.  Or, use the <min>...<max> syntax\n",
      "        to tell CMake that the project requires at least <min> but has been updated\n",
      "        to work with policies introduced by <max> or earlier.\n",
      "      \n",
      "        Or, add -DCMAKE_POLICY_VERSION_MINIMUM=3.5 to try configuring anyway.\n",
      "      \n",
      "      \n",
      "      -- Configuring incomplete, errors occurred!\n",
      "      Traceback (most recent call last):\n",
      "        File \u001b[35m\"<string>\"\u001b[0m, line \u001b[35m2\u001b[0m, in \u001b[35m<module>\u001b[0m\n",
      "          \u001b[31mexec\u001b[0m\u001b[1;31m(compile('''\u001b[0m\n",
      "          \u001b[31m~~~~\u001b[0m\u001b[1;31m^^^^^^^^^^^^\u001b[0m\n",
      "          \u001b[1;31m# This is <pip-setuptools-caller> -- a caller that pip uses to run setup.py\u001b[0m\n",
      "          \u001b[1;31m^^^^^^^^^^^^^^^^^^^^^^^^^^^^^^^^^^^^^^^^^^^^^^^^^^^^^^^^^^^^^^^^^^^^^^^^^^^\u001b[0m\n",
      "          ...<32 lines>...\n",
      "          \u001b[1;31mexec(compile(setup_py_code, filename, \"exec\"))\u001b[0m\n",
      "          \u001b[1;31m^^^^^^^^^^^^^^^^^^^^^^^^^^^^^^^^^^^^^^^^^^^^^^\u001b[0m\n",
      "          \u001b[1;31m''' % ('C:\\\\Users\\\\acordero\\\\AppData\\\\Local\\\\Temp\\\\pip-install-nj8e45ud\\\\sentencepiece_c57de4d2974f4f04b6fb68675c1c60c0\\\\setup.py',), \"<pip-setuptools-caller>\", \"exec\"))\u001b[0m\n",
      "          \u001b[1;31m^^^^^^^^^^^^^^^^^^^^^^^^^^^^^^^^^^^^^^^^^^^^^^^^^^^^^^^^^^^^^^^^^^^^^^^^^^^^^^^^^^^^^^^^^^^^^^^^^^^^^^^^^^^^^^^^^^^^^^^^^^^^^^^^^^^^^^^^^^^^^^^^^^^^^^^^^^^^^^^^^^^^^^^^^\u001b[0m\n",
      "        File \u001b[35m\"<pip-setuptools-caller>\"\u001b[0m, line \u001b[35m35\u001b[0m, in \u001b[35m<module>\u001b[0m\n",
      "        File \u001b[35m\"C:\\Users\\acordero\\AppData\\Local\\Temp\\pip-install-nj8e45ud\\sentencepiece_c57de4d2974f4f04b6fb68675c1c60c0\\setup.py\"\u001b[0m, line \u001b[35m126\u001b[0m, in \u001b[35m<module>\u001b[0m\n",
      "          \u001b[31msubprocess.check_call\u001b[0m\u001b[1;31m([\u001b[0m\n",
      "          \u001b[31m~~~~~~~~~~~~~~~~~~~~~\u001b[0m\u001b[1;31m^^\u001b[0m\n",
      "              \u001b[1;31m'cmake',\u001b[0m\n",
      "              \u001b[1;31m^^^^^^^^\u001b[0m\n",
      "          ...<6 lines>...\n",
      "              \u001b[1;31m'-DCMAKE_INSTALL_PREFIX=build\\\\root',\u001b[0m\n",
      "              \u001b[1;31m^^^^^^^^^^^^^^^^^^^^^^^^^^^^^^^^^^^^^\u001b[0m\n",
      "          \u001b[1;31m])\u001b[0m\n",
      "          \u001b[1;31m^^\u001b[0m\n",
      "        File \u001b[35m\"c:\\Users\\acordero\\AppData\\Local\\Programs\\Python\\Python313\\Lib\\subprocess.py\"\u001b[0m, line \u001b[35m421\u001b[0m, in \u001b[35mcheck_call\u001b[0m\n",
      "          raise CalledProcessError(retcode, cmd)\n",
      "      \u001b[1;35msubprocess.CalledProcessError\u001b[0m: \u001b[35mCommand '['cmake', 'sentencepiece', '-A', 'x64', '-B', 'build', '-DSPM_ENABLE_SHARED=OFF', '-DCMAKE_INSTALL_PREFIX=build\\\\root']' returned non-zero exit status 1.\u001b[0m\n",
      "      [end of output]\n",
      "  \n",
      "  note: This error originates from a subprocess, and is likely not a problem with pip.\n",
      "error: metadata-generation-failed\n",
      "\n",
      "× Encountered error while generating package metadata.\n",
      "╰─> See above for output.\n",
      "\n",
      "note: This is an issue with the package mentioned above, not pip.\n",
      "hint: See above for details.\n"
     ]
    }
   ],
   "source": [
    "pip install sentencepiece==0.1.99\n"
   ]
  },
  {
   "cell_type": "code",
   "execution_count": 9,
   "id": "aa28b2c7",
   "metadata": {},
   "outputs": [
    {
     "name": "stdout",
     "output_type": "stream",
     "text": [
      "Requirement already satisfied: cmake in c:\\users\\acordero\\appdata\\local\\programs\\python\\python313\\lib\\site-packages (4.0.2)\n",
      "Note: you may need to restart the kernel to use updated packages.\n"
     ]
    }
   ],
   "source": [
    "pip install --upgrade cmake\n"
   ]
  },
  {
   "cell_type": "code",
   "execution_count": 7,
   "id": "5c6f3fb5",
   "metadata": {},
   "outputs": [
    {
     "name": "stdout",
     "output_type": "stream",
     "text": [
      "Collecting cmake\n",
      "  Downloading cmake-4.0.2-py3-none-win_amd64.whl.metadata (6.3 kB)\n",
      "Downloading cmake-4.0.2-py3-none-win_amd64.whl (36.7 MB)\n",
      "   ---------------------------------------- 0.0/36.7 MB ? eta -:--:--\n",
      "   - -------------------------------------- 1.0/36.7 MB 7.7 MB/s eta 0:00:05\n",
      "   ---- ----------------------------------- 3.7/36.7 MB 10.5 MB/s eta 0:00:04\n",
      "   ------ --------------------------------- 5.8/36.7 MB 10.2 MB/s eta 0:00:04\n",
      "   --------- ------------------------------ 8.7/36.7 MB 11.3 MB/s eta 0:00:03\n",
      "   ------------ --------------------------- 11.3/36.7 MB 11.4 MB/s eta 0:00:03\n",
      "   -------------- ------------------------- 13.6/36.7 MB 11.5 MB/s eta 0:00:03\n",
      "   ----------------- ---------------------- 16.0/36.7 MB 11.5 MB/s eta 0:00:02\n",
      "   -------------------- ------------------- 18.6/36.7 MB 11.6 MB/s eta 0:00:02\n",
      "   ---------------------- ----------------- 21.0/36.7 MB 11.6 MB/s eta 0:00:02\n",
      "   ------------------------- -------------- 23.6/36.7 MB 11.6 MB/s eta 0:00:02\n",
      "   ---------------------------- ----------- 26.0/36.7 MB 11.6 MB/s eta 0:00:01\n",
      "   ------------------------------- -------- 28.6/36.7 MB 11.7 MB/s eta 0:00:01\n",
      "   ---------------------------------- ----- 31.2/36.7 MB 11.7 MB/s eta 0:00:01\n",
      "   ------------------------------------ --- 33.6/36.7 MB 11.7 MB/s eta 0:00:01\n",
      "   ---------------------------------------  36.2/36.7 MB 11.7 MB/s eta 0:00:01\n",
      "   ---------------------------------------- 36.7/36.7 MB 11.1 MB/s eta 0:00:00\n",
      "Installing collected packages: cmake\n",
      "Successfully installed cmake-4.0.2\n",
      "Note: you may need to restart the kernel to use updated packages.\n"
     ]
    }
   ],
   "source": [
    "pip install cmake\n"
   ]
  }
 ],
 "metadata": {
  "kernelspec": {
   "display_name": "Python 3",
   "language": "python",
   "name": "python3"
  },
  "language_info": {
   "codemirror_mode": {
    "name": "ipython",
    "version": 3
   },
   "file_extension": ".py",
   "mimetype": "text/x-python",
   "name": "python",
   "nbconvert_exporter": "python",
   "pygments_lexer": "ipython3",
   "version": "3.13.2"
  }
 },
 "nbformat": 4,
 "nbformat_minor": 5
}
